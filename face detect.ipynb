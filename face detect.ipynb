{
 "cells": [
  {
   "cell_type": "code",
   "execution_count": 1,
   "id": "4e1c10ec",
   "metadata": {},
   "outputs": [],
   "source": [
    "import cv2"
   ]
  },
  {
   "cell_type": "code",
   "execution_count": 2,
   "id": "ad480fb0",
   "metadata": {},
   "outputs": [],
   "source": [
    "cap = cv2.VideoCapture(0)"
   ]
  },
  {
   "cell_type": "code",
   "execution_count": 3,
   "id": "d39adb54",
   "metadata": {},
   "outputs": [],
   "source": [
    "model = cv2.CascadeClassifier('haarcascade_frontalface_default.xml')"
   ]
  },
  {
   "cell_type": "code",
   "execution_count": null,
   "id": "be7df980",
   "metadata": {},
   "outputs": [],
   "source": [
    "while True:\n",
    "    ret, img = cap.read()\n",
    "    face  = model.detectMultiScale(img)\n",
    "    if len(face) == 0:\n",
    "        pass\n",
    "    else:\n",
    "        x1 = face[0][0]\n",
    "        y1 = face[0][1]\n",
    "        x2 = face[0][2] + x1\n",
    "        y2 = face[0][3] + y1 \n",
    "        cimg = img[y1:y2 , x1:x2]\n",
    "        blur_img = cv2.blur(cimg, (50,50))\n",
    "        img[y1:y2 , x1:x2] = blur_img\n",
    "        cv2.imshow(\"Blurred Face\",img)\n",
    "        if cv2.waitKey(100) == 13:\n",
    "            break\n",
    "            \n",
    "cv2.destroyAllWindows()"
   ]
  },
  {
   "cell_type": "code",
   "execution_count": null,
   "id": "2cda17f5",
   "metadata": {},
   "outputs": [],
   "source": [
    "cap.release(stop)"
   ]
  },
  {
   "cell_type": "code",
   "execution_count": null,
   "id": "e268e358",
   "metadata": {},
   "outputs": [],
   "source": []
  }
 ],
 "metadata": {
  "kernelspec": {
   "display_name": "Python 3",
   "language": "python",
   "name": "python3"
  },
  "language_info": {
   "codemirror_mode": {
    "name": "ipython",
    "version": 3
   },
   "file_extension": ".py",
   "mimetype": "text/x-python",
   "name": "python",
   "nbconvert_exporter": "python",
   "pygments_lexer": "ipython3",
   "version": "3.8.8"
  }
 },
 "nbformat": 4,
 "nbformat_minor": 5
}
